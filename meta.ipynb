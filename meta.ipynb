{
 "cells": [
  {
   "cell_type": "code",
   "execution_count": 1,
   "metadata": {},
   "outputs": [],
   "source": [
    "%load_ext autoreload\n",
    "%autoreload 2\n",
    "\n",
    "from cls_data.data import Dataset\n",
    "import evals\n",
    "from util import Logger\n",
    "\n",
    "import editdistance\n",
    "import numpy as np\n",
    "import sexpdata\n",
    "import torch\n",
    "from torch import nn, optim\n",
    "from torch.optim import lr_scheduler as opt_sched\n",
    "from torch.autograd import Variable"
   ]
  },
  {
   "cell_type": "code",
   "execution_count": 2,
   "metadata": {},
   "outputs": [],
   "source": [
    "N_EMBED = 128\n",
    "N_HIDDEN = 256\n",
    "N_BATCH = 128\n",
    "N_MTRAIN = 150"
   ]
  },
  {
   "cell_type": "code",
   "execution_count": 3,
   "metadata": {},
   "outputs": [],
   "source": [
    "def unwrap(var):\n",
    "    return var.data.numpy()"
   ]
  },
  {
   "cell_type": "code",
   "execution_count": 4,
   "metadata": {},
   "outputs": [],
   "source": [
    "class Model(nn.Module):\n",
    "    def __init__(self, dataset):\n",
    "        super().__init__()\n",
    "        self._emb_feats = nn.Linear(dataset.n_features, N_EMBED)\n",
    "        self._emb_label = nn.Linear(2, N_EMBED)\n",
    "        self._make_pred_1 = nn.Sequential(\n",
    "            nn.Linear(N_EMBED, N_HIDDEN),\n",
    "            nn.ReLU())\n",
    "        self._make_pred_2 = nn.Sequential(\n",
    "            #nn.Linear(N_HIDDEN, N_HIDDEN),\n",
    "            #nn.ReLU(),\n",
    "            nn.Linear(N_HIDDEN, N_EMBED))\n",
    "        #self._pred_rnn = nn.GRU(input_size=N_EMBED, hidden_size=N_HIDDEN, num_layers=1, batch_first=True)\n",
    "        #self._make_pred = nn.Linear(N_HIDDEN, N_EMBED)\n",
    "        self._pred = nn.Linear(N_EMBED, 1)\n",
    "        self._loss = nn.BCEWithLogitsLoss()\n",
    "    \n",
    "    def forward(self, batch):\n",
    "        emb_mtrain_feats = self._emb_feats(batch.mtrain_feats)\n",
    "        emb_mtrain_labels = self._emb_label(batch.mtrain_labels)\n",
    "        emb_mtrain = emb_mtrain_feats * emb_mtrain_labels\n",
    "        \n",
    "        emb_pred_feats = self._emb_feats(batch.mpred_feats)\n",
    "        \n",
    "        rep = self._make_pred_1(emb_mtrain.mean(dim=1))\n",
    "        noised_rep = rep + 1 * Variable(torch.randn(*rep.shape))\n",
    "        predictor = self._make_pred_2(noised_rep)\n",
    "        exp_predictor = predictor.unsqueeze(1).expand_as(emb_pred_feats)\n",
    "        #_, pred_hidden = self._pred_rnn(emb_mtrain)\n",
    "        #predictor = self._make_pred(pred_hidden.squeeze(0))\n",
    "        \n",
    "        #pred_logits = (emb_pred_feats * exp_predictor).sum(dim=2)\n",
    "        pred_logits = self._pred(emb_pred_feats * exp_predictor).squeeze(2)\n",
    "        pred_labels = (pred_logits > 0).long()\n",
    "        loss = self._loss(pred_logits, batch.mpred_labels)\n",
    "        return loss, (pred_labels == batch.mpred_labels.long()).float().mean(), pred_labels, predictor"
   ]
  },
  {
   "cell_type": "code",
   "execution_count": 5,
   "metadata": {},
   "outputs": [],
   "source": [
    "def eval_isom_tree(reps, lfs):\n",
    "    return evals.isom(reps, lfs, evals.cos_dist, evals.tree_dist)\n",
    "\n",
    "def eval_isom_ext(reps, exts):\n",
    "    return evals.isom(reps, exts, evals.cos_dist, evals.l1_dist)\n",
    "\n",
    "def eval_hom(model, reps1, reps2):\n",
    "    #sim_rep = lambda x, y: ((x-y)**2).sum()\n",
    "    return evals.hom(reps1, reps2, None)\n",
    "\n",
    "EPOCH = 'epoch'\n",
    "TRN_LOSS = 'trn loss'\n",
    "TRN_ACC = 'trn acc'\n",
    "VAL_ACC = 'val acc'\n",
    "ISOM_TREE = 'isom (r-t)'\n",
    "ISOM_EXT = 'isom (r-e)'\n",
    "ISOM_CHK = 'isom (t-e)'\n",
    "HOM = 'hom'\n",
    "HOM2 = 'hom2'\n",
    "#METRIC_LABEL = 'metric (lab)'\n",
    "#METRIC_INTENT = 'metric (int)'\n",
    "#COMP_INTENT = 'comp (int)'\n",
    "LOG_KEYS = [EPOCH, TRN_LOSS, TRN_ACC, VAL_ACC, ISOM_TREE, ISOM_EXT, ISOM_CHK, HOM,   HOM2]\n",
    "LOG_FMTS = ['d',   '.3f',    '.3f',   '.3f',   '.3f',     '.3f',    '.3f',    '.3f', '.3f']\n",
    "\n",
    "def validate(dataset, model, logger):\n",
    "    val_batch = dataset.get_val_batch(N_MTRAIN)\n",
    "    _, val_acc, val_preds, val_reps = model(val_batch)\n",
    "    val_acc = unwrap(val_acc)[0]\n",
    "    logger.update(VAL_ACC, val_acc)\n",
    "    \n",
    "    named = [\n",
    "        dataset.name(val_batch.mids[m], val_batch.indices[m][1], unwrap(val_preds[m, :]))\n",
    "        for m in range(val_preds.shape[0])]\n",
    "    true_lfs, full_exts = zip(*named)\n",
    "    \n",
    "    logger.update(ISOM_TREE, eval_isom_tree(unwrap(val_reps), true_lfs))\n",
    "    logger.update(ISOM_EXT, eval_isom_ext(unwrap(val_reps), full_exts))\n",
    "    logger.update(ISOM_CHK, evals.isom(true_lfs, full_exts, evals.tree_dist, evals.l1_dist))\n",
    "    \n",
    "    return val_acc\n",
    "    \n",
    "def validate_hom(dataset, model, logger):\n",
    "    hom_batch, groups = dataset.get_hom_batch(N_MTRAIN)\n",
    "    _, _, hom_preds, hom_reps = model(hom_batch)\n",
    "    hom_reps = unwrap(hom_reps)\n",
    "    \n",
    "    named = [\n",
    "        dataset.name(hom_batch.mids[m], hom_batch.indices[m][1], unwrap(hom_preds[m, :]))\n",
    "        for m in range(hom_preds.shape[0])]\n",
    "    true_lfs, _ = zip(*named)\n",
    "    good_ids = [i for i in range(len(hom_batch.lfs)) if hom_batch.lfs[i] == true_lfs[i]]\n",
    "    all_ids = list(range(len(hom_batch.lfs)))\n",
    "    \n",
    "    for ids, key in ((good_ids, HOM), (all_ids, HOM2)):\n",
    "        good_groups = [g for g in groups if all(gg in ids for gg in g)]\n",
    "        parents = [hom_reps[p] for p, _, _ in good_groups]\n",
    "        children = [(hom_reps[c1] + hom_reps[c2])/2 for _, c1, c2 in good_groups]\n",
    "        logger.update(key, evals.hom(parents, children, evals.cos_dist))\n",
    "\n",
    "def train(dataset, model):\n",
    "    opt = optim.Adam(model.parameters(), lr=1e-2)\n",
    "    sched = opt_sched.ReduceLROnPlateau(opt, factor=0.5, verbose=True, mode='max')\n",
    "    logger = Logger(LOG_KEYS, LOG_FMTS, width=10)\n",
    "    logger.begin()\n",
    "    \n",
    "    val_acc = validate(dataset, model, logger)\n",
    "    validate_hom(dataset, model, logger)\n",
    "    logger.print()\n",
    "    \n",
    "    for i in range(100):\n",
    "        trn_loss = 0\n",
    "        trn_acc = 0\n",
    "        for j in range(50):\n",
    "            batch = dataset.get_train_batch(N_BATCH, N_MTRAIN)\n",
    "            loss, acc, _, _ = model(batch)\n",
    "            opt.zero_grad()\n",
    "            loss.backward()\n",
    "            opt.step()\n",
    "            trn_loss += unwrap(loss)[0]\n",
    "            trn_acc += unwrap(acc)[0]\n",
    "        trn_loss /= 50\n",
    "        trn_acc /= 50\n",
    "        \n",
    "        logger.update(EPOCH, i)\n",
    "        logger.update(TRN_LOSS, trn_loss)\n",
    "        logger.update(TRN_ACC, trn_acc)\n",
    "        val_acc = validate(dataset, model, logger)\n",
    "        validate_hom(dataset, model, logger)\n",
    "        sched.step(val_acc)\n",
    "        logger.print()"
   ]
  },
  {
   "cell_type": "code",
   "execution_count": 6,
   "metadata": {},
   "outputs": [
    {
     "name": "stdout",
     "output_type": "stream",
     "text": [
      "|      epoch |   trn loss |    trn acc |    val acc | isom (r-t) | isom (r-e) | isom (t-e) |        hom |       hom2 |\n",
      "|            |            |            |      0.504 |      0.006 |      0.092 |      0.005 |      0.983 |      0.986 |\n"
     ]
    },
    {
     "name": "stderr",
     "output_type": "stream",
     "text": [
      "/Users/jda/Code/3p/anaconda3/lib/python3.6/site-packages/numpy/core/fromnumeric.py:2909: RuntimeWarning: Mean of empty slice.\n",
      "  out=out, **kwargs)\n",
      "/Users/jda/Code/3p/anaconda3/lib/python3.6/site-packages/numpy/core/_methods.py:80: RuntimeWarning: invalid value encountered in double_scalars\n",
      "  ret = ret.dtype.type(ret / rcount)\n"
     ]
    },
    {
     "name": "stdout",
     "output_type": "stream",
     "text": [
      "|          0 |      0.535 |      0.685 |      0.698 |      0.149 |      0.910 |      0.133 |        nan |      0.378 |\n",
      "|          1 |      0.508 |      0.700 |      0.701 |      0.141 |      0.929 |      0.117 |        nan |      0.506 |\n",
      "|          2 |      0.482 |      0.719 |      0.717 |      0.049 |      0.862 |      0.018 |      0.391 |      0.362 |\n",
      "|          3 |      0.444 |      0.747 |      0.764 |      0.068 |      0.842 |     -0.028 |      0.464 |      0.451 |\n",
      "|          4 |      0.410 |      0.777 |      0.779 |      0.038 |      0.837 |     -0.016 |      0.357 |      0.337 |\n",
      "|          5 |      0.380 |      0.809 |      0.815 |     -0.010 |      0.881 |     -0.046 |      0.278 |      0.322 |\n",
      "|          6 |      0.352 |      0.831 |      0.836 |     -0.025 |      0.886 |     -0.032 |      0.266 |      0.280 |\n",
      "|          7 |      0.332 |      0.844 |      0.850 |     -0.011 |      0.889 |     -0.056 |      0.246 |      0.265 |\n",
      "|          8 |      0.301 |      0.865 |      0.857 |     -0.048 |      0.903 |     -0.060 |      0.220 |      0.250 |\n",
      "|          9 |      0.281 |      0.879 |      0.871 |     -0.052 |      0.912 |     -0.071 |      0.218 |      0.227 |\n",
      "|         10 |      0.263 |      0.889 |      0.870 |     -0.048 |      0.901 |     -0.054 |      0.234 |      0.234 |\n",
      "|         11 |      0.256 |      0.893 |      0.889 |     -0.057 |      0.891 |     -0.072 |      0.197 |      0.196 |\n",
      "|         12 |      0.233 |      0.906 |      0.898 |     -0.065 |      0.910 |     -0.075 |      0.220 |      0.217 |\n",
      "|         13 |      0.196 |      0.925 |      0.927 |     -0.072 |      0.917 |     -0.081 |      0.204 |      0.203 |\n",
      "|         14 |      0.159 |      0.943 |      0.930 |     -0.067 |      0.913 |     -0.073 |      0.203 |      0.203 |\n",
      "|         15 |      0.155 |      0.944 |      0.930 |     -0.070 |      0.903 |     -0.075 |      0.188 |      0.187 |\n"
     ]
    },
    {
     "ename": "KeyboardInterrupt",
     "evalue": "",
     "output_type": "error",
     "traceback": [
      "\u001b[0;31m---------------------------------------------------------------------------\u001b[0m",
      "\u001b[0;31mKeyboardInterrupt\u001b[0m                         Traceback (most recent call last)",
      "\u001b[0;32m<ipython-input-6-63d10cb95996>\u001b[0m in \u001b[0;36m<module>\u001b[0;34m()\u001b[0m\n\u001b[1;32m      1\u001b[0m \u001b[0mdataset\u001b[0m \u001b[0;34m=\u001b[0m \u001b[0mDataset\u001b[0m\u001b[0;34m(\u001b[0m\u001b[0;34m)\u001b[0m\u001b[0;34m\u001b[0m\u001b[0m\n\u001b[1;32m      2\u001b[0m \u001b[0mmodel\u001b[0m \u001b[0;34m=\u001b[0m \u001b[0mModel\u001b[0m\u001b[0;34m(\u001b[0m\u001b[0mdataset\u001b[0m\u001b[0;34m)\u001b[0m\u001b[0;34m\u001b[0m\u001b[0m\n\u001b[0;32m----> 3\u001b[0;31m \u001b[0mtrain\u001b[0m\u001b[0;34m(\u001b[0m\u001b[0mdataset\u001b[0m\u001b[0;34m,\u001b[0m \u001b[0mmodel\u001b[0m\u001b[0;34m)\u001b[0m\u001b[0;34m\u001b[0m\u001b[0m\n\u001b[0m",
      "\u001b[0;32m<ipython-input-5-91ac498390c3>\u001b[0m in \u001b[0;36mtrain\u001b[0;34m(dataset, model)\u001b[0m\n\u001b[1;32m     86\u001b[0m         \u001b[0mlogger\u001b[0m\u001b[0;34m.\u001b[0m\u001b[0mupdate\u001b[0m\u001b[0;34m(\u001b[0m\u001b[0mTRN_LOSS\u001b[0m\u001b[0;34m,\u001b[0m \u001b[0mtrn_loss\u001b[0m\u001b[0;34m)\u001b[0m\u001b[0;34m\u001b[0m\u001b[0m\n\u001b[1;32m     87\u001b[0m         \u001b[0mlogger\u001b[0m\u001b[0;34m.\u001b[0m\u001b[0mupdate\u001b[0m\u001b[0;34m(\u001b[0m\u001b[0mTRN_ACC\u001b[0m\u001b[0;34m,\u001b[0m \u001b[0mtrn_acc\u001b[0m\u001b[0;34m)\u001b[0m\u001b[0;34m\u001b[0m\u001b[0m\n\u001b[0;32m---> 88\u001b[0;31m         \u001b[0mval_acc\u001b[0m \u001b[0;34m=\u001b[0m \u001b[0mvalidate\u001b[0m\u001b[0;34m(\u001b[0m\u001b[0mdataset\u001b[0m\u001b[0;34m,\u001b[0m \u001b[0mmodel\u001b[0m\u001b[0;34m,\u001b[0m \u001b[0mlogger\u001b[0m\u001b[0;34m)\u001b[0m\u001b[0;34m\u001b[0m\u001b[0m\n\u001b[0m\u001b[1;32m     89\u001b[0m         \u001b[0mvalidate_hom\u001b[0m\u001b[0;34m(\u001b[0m\u001b[0mdataset\u001b[0m\u001b[0;34m,\u001b[0m \u001b[0mmodel\u001b[0m\u001b[0;34m,\u001b[0m \u001b[0mlogger\u001b[0m\u001b[0;34m)\u001b[0m\u001b[0;34m\u001b[0m\u001b[0m\n\u001b[1;32m     90\u001b[0m         \u001b[0msched\u001b[0m\u001b[0;34m.\u001b[0m\u001b[0mstep\u001b[0m\u001b[0;34m(\u001b[0m\u001b[0mval_acc\u001b[0m\u001b[0;34m)\u001b[0m\u001b[0;34m\u001b[0m\u001b[0m\n",
      "\u001b[0;32m<ipython-input-5-91ac498390c3>\u001b[0m in \u001b[0;36mvalidate\u001b[0;34m(dataset, model, logger)\u001b[0m\n\u001b[1;32m     32\u001b[0m     named = [\n\u001b[1;32m     33\u001b[0m         \u001b[0mdataset\u001b[0m\u001b[0;34m.\u001b[0m\u001b[0mname\u001b[0m\u001b[0;34m(\u001b[0m\u001b[0mval_batch\u001b[0m\u001b[0;34m.\u001b[0m\u001b[0mmids\u001b[0m\u001b[0;34m[\u001b[0m\u001b[0mm\u001b[0m\u001b[0;34m]\u001b[0m\u001b[0;34m,\u001b[0m \u001b[0mval_batch\u001b[0m\u001b[0;34m.\u001b[0m\u001b[0mindices\u001b[0m\u001b[0;34m[\u001b[0m\u001b[0mm\u001b[0m\u001b[0;34m]\u001b[0m\u001b[0;34m[\u001b[0m\u001b[0;36m1\u001b[0m\u001b[0;34m]\u001b[0m\u001b[0;34m,\u001b[0m \u001b[0munwrap\u001b[0m\u001b[0;34m(\u001b[0m\u001b[0mval_preds\u001b[0m\u001b[0;34m[\u001b[0m\u001b[0mm\u001b[0m\u001b[0;34m,\u001b[0m \u001b[0;34m:\u001b[0m\u001b[0;34m]\u001b[0m\u001b[0;34m)\u001b[0m\u001b[0;34m)\u001b[0m\u001b[0;34m\u001b[0m\u001b[0m\n\u001b[0;32m---> 34\u001b[0;31m         for m in range(val_preds.shape[0])]\n\u001b[0m\u001b[1;32m     35\u001b[0m     \u001b[0mtrue_lfs\u001b[0m\u001b[0;34m,\u001b[0m \u001b[0mfull_exts\u001b[0m \u001b[0;34m=\u001b[0m \u001b[0mzip\u001b[0m\u001b[0;34m(\u001b[0m\u001b[0;34m*\u001b[0m\u001b[0mnamed\u001b[0m\u001b[0;34m)\u001b[0m\u001b[0;34m\u001b[0m\u001b[0m\n\u001b[1;32m     36\u001b[0m \u001b[0;34m\u001b[0m\u001b[0m\n",
      "\u001b[0;32m<ipython-input-5-91ac498390c3>\u001b[0m in \u001b[0;36m<listcomp>\u001b[0;34m(.0)\u001b[0m\n\u001b[1;32m     32\u001b[0m     named = [\n\u001b[1;32m     33\u001b[0m         \u001b[0mdataset\u001b[0m\u001b[0;34m.\u001b[0m\u001b[0mname\u001b[0m\u001b[0;34m(\u001b[0m\u001b[0mval_batch\u001b[0m\u001b[0;34m.\u001b[0m\u001b[0mmids\u001b[0m\u001b[0;34m[\u001b[0m\u001b[0mm\u001b[0m\u001b[0;34m]\u001b[0m\u001b[0;34m,\u001b[0m \u001b[0mval_batch\u001b[0m\u001b[0;34m.\u001b[0m\u001b[0mindices\u001b[0m\u001b[0;34m[\u001b[0m\u001b[0mm\u001b[0m\u001b[0;34m]\u001b[0m\u001b[0;34m[\u001b[0m\u001b[0;36m1\u001b[0m\u001b[0;34m]\u001b[0m\u001b[0;34m,\u001b[0m \u001b[0munwrap\u001b[0m\u001b[0;34m(\u001b[0m\u001b[0mval_preds\u001b[0m\u001b[0;34m[\u001b[0m\u001b[0mm\u001b[0m\u001b[0;34m,\u001b[0m \u001b[0;34m:\u001b[0m\u001b[0;34m]\u001b[0m\u001b[0;34m)\u001b[0m\u001b[0;34m)\u001b[0m\u001b[0;34m\u001b[0m\u001b[0m\n\u001b[0;32m---> 34\u001b[0;31m         for m in range(val_preds.shape[0])]\n\u001b[0m\u001b[1;32m     35\u001b[0m     \u001b[0mtrue_lfs\u001b[0m\u001b[0;34m,\u001b[0m \u001b[0mfull_exts\u001b[0m \u001b[0;34m=\u001b[0m \u001b[0mzip\u001b[0m\u001b[0;34m(\u001b[0m\u001b[0;34m*\u001b[0m\u001b[0mnamed\u001b[0m\u001b[0;34m)\u001b[0m\u001b[0;34m\u001b[0m\u001b[0m\n\u001b[1;32m     36\u001b[0m \u001b[0;34m\u001b[0m\u001b[0m\n",
      "\u001b[0;32m~/Code/compositionality/cls_data/data.py\u001b[0m in \u001b[0;36mname\u001b[0;34m(self, mid, indices, labels)\u001b[0m\n\u001b[1;32m     53\u001b[0m         \u001b[0mcandidates\u001b[0m \u001b[0;34m=\u001b[0m \u001b[0;34m[\u001b[0m\u001b[0;34m]\u001b[0m\u001b[0;34m\u001b[0m\u001b[0m\n\u001b[1;32m     54\u001b[0m         \u001b[0;32mfor\u001b[0m \u001b[0mmset\u001b[0m \u001b[0;32min\u001b[0m \u001b[0mself\u001b[0m\u001b[0;34m.\u001b[0m\u001b[0m_msets\u001b[0m\u001b[0;34m:\u001b[0m\u001b[0;34m\u001b[0m\u001b[0m\n\u001b[0;32m---> 55\u001b[0;31m             \u001b[0mscore1\u001b[0m \u001b[0;34m=\u001b[0m \u001b[0msum\u001b[0m\u001b[0;34m(\u001b[0m\u001b[0;36m1\u001b[0m \u001b[0;32mfor\u001b[0m \u001b[0mi\u001b[0m\u001b[0;34m,\u001b[0m \u001b[0mii\u001b[0m \u001b[0;32min\u001b[0m \u001b[0menumerate\u001b[0m\u001b[0;34m(\u001b[0m\u001b[0mindices\u001b[0m\u001b[0;34m)\u001b[0m \u001b[0;32mif\u001b[0m \u001b[0mmset\u001b[0m\u001b[0;34m.\u001b[0m\u001b[0mlabels\u001b[0m\u001b[0;34m[\u001b[0m\u001b[0mii\u001b[0m\u001b[0;34m]\u001b[0m \u001b[0;34m!=\u001b[0m \u001b[0mlabels\u001b[0m\u001b[0;34m[\u001b[0m\u001b[0mi\u001b[0m\u001b[0;34m]\u001b[0m\u001b[0;34m)\u001b[0m\u001b[0;34m\u001b[0m\u001b[0m\n\u001b[0m\u001b[1;32m     56\u001b[0m             \u001b[0mscore2\u001b[0m \u001b[0;34m=\u001b[0m \u001b[0msum\u001b[0m\u001b[0;34m(\u001b[0m\u001b[0;36m1\u001b[0m \u001b[0;32mfor\u001b[0m \u001b[0mii\u001b[0m \u001b[0;32min\u001b[0m \u001b[0mnindices\u001b[0m \u001b[0;32mif\u001b[0m \u001b[0mmset\u001b[0m\u001b[0;34m.\u001b[0m\u001b[0mlabels\u001b[0m\u001b[0;34m[\u001b[0m\u001b[0mii\u001b[0m\u001b[0;34m]\u001b[0m \u001b[0;34m!=\u001b[0m \u001b[0mnlabels\u001b[0m\u001b[0;34m[\u001b[0m\u001b[0mii\u001b[0m\u001b[0;34m]\u001b[0m\u001b[0;34m)\u001b[0m\u001b[0;34m\u001b[0m\u001b[0m\n\u001b[1;32m     57\u001b[0m             \u001b[0mcandidates\u001b[0m\u001b[0;34m.\u001b[0m\u001b[0mappend\u001b[0m\u001b[0;34m(\u001b[0m\u001b[0;34m(\u001b[0m\u001b[0mscore1\u001b[0m \u001b[0;34m+\u001b[0m \u001b[0mscore2\u001b[0m\u001b[0;34m,\u001b[0m \u001b[0mmset\u001b[0m\u001b[0;34m.\u001b[0m\u001b[0mlf\u001b[0m\u001b[0;34m,\u001b[0m \u001b[0;34m)\u001b[0m\u001b[0;34m)\u001b[0m\u001b[0;34m\u001b[0m\u001b[0m\n",
      "\u001b[0;32m~/Code/compositionality/cls_data/data.py\u001b[0m in \u001b[0;36m<genexpr>\u001b[0;34m(.0)\u001b[0m\n\u001b[1;32m     53\u001b[0m         \u001b[0mcandidates\u001b[0m \u001b[0;34m=\u001b[0m \u001b[0;34m[\u001b[0m\u001b[0;34m]\u001b[0m\u001b[0;34m\u001b[0m\u001b[0m\n\u001b[1;32m     54\u001b[0m         \u001b[0;32mfor\u001b[0m \u001b[0mmset\u001b[0m \u001b[0;32min\u001b[0m \u001b[0mself\u001b[0m\u001b[0;34m.\u001b[0m\u001b[0m_msets\u001b[0m\u001b[0;34m:\u001b[0m\u001b[0;34m\u001b[0m\u001b[0m\n\u001b[0;32m---> 55\u001b[0;31m             \u001b[0mscore1\u001b[0m \u001b[0;34m=\u001b[0m \u001b[0msum\u001b[0m\u001b[0;34m(\u001b[0m\u001b[0;36m1\u001b[0m \u001b[0;32mfor\u001b[0m \u001b[0mi\u001b[0m\u001b[0;34m,\u001b[0m \u001b[0mii\u001b[0m \u001b[0;32min\u001b[0m \u001b[0menumerate\u001b[0m\u001b[0;34m(\u001b[0m\u001b[0mindices\u001b[0m\u001b[0;34m)\u001b[0m \u001b[0;32mif\u001b[0m \u001b[0mmset\u001b[0m\u001b[0;34m.\u001b[0m\u001b[0mlabels\u001b[0m\u001b[0;34m[\u001b[0m\u001b[0mii\u001b[0m\u001b[0;34m]\u001b[0m \u001b[0;34m!=\u001b[0m \u001b[0mlabels\u001b[0m\u001b[0;34m[\u001b[0m\u001b[0mi\u001b[0m\u001b[0;34m]\u001b[0m\u001b[0;34m)\u001b[0m\u001b[0;34m\u001b[0m\u001b[0m\n\u001b[0m\u001b[1;32m     56\u001b[0m             \u001b[0mscore2\u001b[0m \u001b[0;34m=\u001b[0m \u001b[0msum\u001b[0m\u001b[0;34m(\u001b[0m\u001b[0;36m1\u001b[0m \u001b[0;32mfor\u001b[0m \u001b[0mii\u001b[0m \u001b[0;32min\u001b[0m \u001b[0mnindices\u001b[0m \u001b[0;32mif\u001b[0m \u001b[0mmset\u001b[0m\u001b[0;34m.\u001b[0m\u001b[0mlabels\u001b[0m\u001b[0;34m[\u001b[0m\u001b[0mii\u001b[0m\u001b[0;34m]\u001b[0m \u001b[0;34m!=\u001b[0m \u001b[0mnlabels\u001b[0m\u001b[0;34m[\u001b[0m\u001b[0mii\u001b[0m\u001b[0;34m]\u001b[0m\u001b[0;34m)\u001b[0m\u001b[0;34m\u001b[0m\u001b[0m\n\u001b[1;32m     57\u001b[0m             \u001b[0mcandidates\u001b[0m\u001b[0;34m.\u001b[0m\u001b[0mappend\u001b[0m\u001b[0;34m(\u001b[0m\u001b[0;34m(\u001b[0m\u001b[0mscore1\u001b[0m \u001b[0;34m+\u001b[0m \u001b[0mscore2\u001b[0m\u001b[0;34m,\u001b[0m \u001b[0mmset\u001b[0m\u001b[0;34m.\u001b[0m\u001b[0mlf\u001b[0m\u001b[0;34m,\u001b[0m \u001b[0;34m)\u001b[0m\u001b[0;34m)\u001b[0m\u001b[0;34m\u001b[0m\u001b[0m\n",
      "\u001b[0;31mKeyboardInterrupt\u001b[0m: "
     ]
    }
   ],
   "source": [
    "dataset = Dataset()\n",
    "model = Model(dataset)\n",
    "train(dataset, model)"
   ]
  },
  {
   "cell_type": "code",
   "execution_count": null,
   "metadata": {},
   "outputs": [],
   "source": []
  }
 ],
 "metadata": {
  "kernelspec": {
   "display_name": "Python 3",
   "language": "python",
   "name": "python3"
  },
  "language_info": {
   "codemirror_mode": {
    "name": "ipython",
    "version": 3
   },
   "file_extension": ".py",
   "mimetype": "text/x-python",
   "name": "python",
   "nbconvert_exporter": "python",
   "pygments_lexer": "ipython3",
   "version": "3.6.2"
  }
 },
 "nbformat": 4,
 "nbformat_minor": 2
}
